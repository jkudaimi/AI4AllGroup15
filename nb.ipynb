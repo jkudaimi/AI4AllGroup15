{
 "cells": [
  {
   "cell_type": "code",
   "execution_count": 1,
   "metadata": {},
   "outputs": [
    {
     "ename": "ModuleNotFoundError",
     "evalue": "No module named 'numpy'",
     "output_type": "error",
     "traceback": [
      "\u001b[1;31m---------------------------------------------------------------------------\u001b[0m",
      "\u001b[1;31mModuleNotFoundError\u001b[0m                       Traceback (most recent call last)",
      "Cell \u001b[1;32mIn[1], line 1\u001b[0m\n\u001b[1;32m----> 1\u001b[0m \u001b[38;5;28;01mimport\u001b[39;00m \u001b[38;5;21;01mnumpy\u001b[39;00m \u001b[38;5;28;01mas\u001b[39;00m \u001b[38;5;21;01mnp\u001b[39;00m\n\u001b[0;32m      2\u001b[0m \u001b[38;5;28;01mimport\u001b[39;00m \u001b[38;5;21;01mpandas\u001b[39;00m \u001b[38;5;28;01mas\u001b[39;00m \u001b[38;5;21;01mpd\u001b[39;00m\n\u001b[0;32m      3\u001b[0m \u001b[38;5;28;01mimport\u001b[39;00m \u001b[38;5;21;01mtensorflow\u001b[39;00m \u001b[38;5;28;01mas\u001b[39;00m \u001b[38;5;21;01mtf\u001b[39;00m\n",
      "\u001b[1;31mModuleNotFoundError\u001b[0m: No module named 'numpy'"
     ]
    }
   ],
   "source": [
    "import numpy as np\n",
    "import pandas as pd\n",
    "import tensorflow as tf\n",
    "from tensorflow import keras\n",
    "import matplotlib\n",
    "import matplotlib.pyplot as plt\n",
    "import math\n",
    "\n",
    "# Load your dataset here\n",
    "data = pd.read_csv('training.csv')\n",
    "negativewords = pd.read_csv('negative-words.csv')\n",
    "negativewords = negativewords.rename(columns={'2-faced': 'neg'})\n",
    "negativewords['val'] = [-1 for _ in range(len(negativewords))]\n",
    "\n",
    "\n",
    "\n",
    "\n",
    "\n",
    "positivewords = pd.read_csv('positive-words.csv')\n",
    "positivewords = positivewords.rename(columns={'a+': 'pos'})\n",
    "positivewords['val'] = [1 for _ in range(len(positivewords))]"
   ]
  },
  {
   "cell_type": "code",
   "execution_count": null,
   "metadata": {},
   "outputs": [],
   "source": [
    "def parsingwords(s):\n",
    "  words = s.split(' ')\n",
    "  val = []\n",
    "  for n in list(negativewords['neg']):\n",
    "    if s.find(str(n)) != -1:\n",
    "      val.append(-1)\n",
    "  for p in positivewords['pos']:\n",
    "    if s.find(p) != -1:\n",
    "      val.append(1)\n",
    "  if len(val) != 0:\n",
    "    return sum(val)/len(val)\n",
    "  return 0\n",
    "\n",
    "vals = []\n",
    "for row in range(len(data)) :\n",
    "  #print(data['text'][row], data[])\n",
    "  vals.append(parsingwords(data['text'][row]))\n",
    "  #print(vals[row], '\\n\\n')\n",
    "data['vals'] = [parsingwords(data['text'][row]) for row in range(len(data))]\n",
    "data.head(25)\n",
    "#print([parsingwords(data['text'][row]) for row in range(2)])\n",
    "#print([data['text'][row] for row in range(2)])\n",
    "# 0 = sad\n",
    "# 1 = joy\n",
    "# 2 = love\n",
    "# 3 = anger\n",
    "# 4 = fear\n",
    "# 5 = surprise"
   ]
  }
 ],
 "metadata": {
  "kernelspec": {
   "display_name": "Python 3 (ipykernel)",
   "language": "python",
   "name": "python3"
  },
  "language_info": {
   "codemirror_mode": {
    "name": "ipython",
    "version": 3
   },
   "file_extension": ".py",
   "mimetype": "text/x-python",
   "name": "python",
   "nbconvert_exporter": "python",
   "pygments_lexer": "ipython3",
   "version": "3.11.3"
  }
 },
 "nbformat": 4,
 "nbformat_minor": 4
}
